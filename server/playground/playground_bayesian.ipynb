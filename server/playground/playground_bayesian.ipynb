{
 "cells": [
  {
   "cell_type": "markdown",
   "metadata": {},
   "source": [
    "# Overview"
   ]
  },
  {
   "cell_type": "markdown",
   "metadata": {},
   "source": [
    "**Context**\n",
    "\n",
    "The SMS Spam Collection is a set of SMS tagged messages that have been collected for SMS Spam research. \n",
    "It contains one set of SMS messages in English of 5,574 messages, tagged acording being ham (legitimate) or spam.\n",
    "\n",
    "**Content**\n",
    "\n",
    "The files contain one message per line. Each line is composed by two columns: v1 contains the label (ham or spam) and v2 contains the raw text."
   ]
  },
  {
   "cell_type": "markdown",
   "metadata": {},
   "source": [
    "# Approach"
   ]
  },
  {
   "cell_type": "markdown",
   "metadata": {},
   "source": [
    "- Loading Data\n",
    "\n",
    "- Input and Output Data\n",
    "\n",
    "- Applying Regular Expression\n",
    "\n",
    "- Each word to lower case\n",
    "\n",
    "- Splitting words to Tokenize\n",
    "\n",
    "- Stemming with PorterStemmer handling Stop Words\n",
    "\n",
    "- Preparing Messages with Remaining Tokens\n",
    "\n",
    "- Preparing WordVector Corpus\n",
    "\n",
    "- Applying Classification"
   ]
  },
  {
   "cell_type": "code",
   "execution_count": 23,
   "metadata": {},
   "outputs": [
    {
     "name": "stdout",
     "output_type": "stream",
     "text": [
      "       label  message\n",
      "count     67       67\n",
      "unique     3       67\n",
      "top      ham  message\n",
      "freq      37        1\n",
      "label      0\n",
      "message    0\n",
      "dtype: int64\n",
      "['ham' 'spam']\n",
      "Accuracy: 0.9\n",
      "Classification Report:\n",
      "               precision    recall  f1-score   support\n",
      "\n",
      "           0       1.00      0.85      0.92        13\n",
      "           1       0.78      1.00      0.88         7\n",
      "\n",
      "    accuracy                           0.90        20\n",
      "   macro avg       0.89      0.92      0.90        20\n",
      "weighted avg       0.92      0.90      0.90        20\n",
      "\n"
     ]
    }
   ],
   "source": [
    "import pandas as pd\n",
    "from sklearn.feature_extraction.text import CountVectorizer\n",
    "from sklearn.model_selection import train_test_split\n",
    "from sklearn.naive_bayes import MultinomialNB\n",
    "from sklearn.metrics import accuracy_score, classification_report\n",
    "import re\n",
    "\n",
    "# Fonction de prétraitement pour remplacer les éléments spécifiques\n",
    "def preprocess_sms(sms):\n",
    "    # Remplacer les adresses email\n",
    "    sms = re.sub(r'\\b[\\w\\.-]+@[\\w\\.-]+\\.\\w{2,4}\\b', 'emailaddr', sms)\n",
    "    # Remplacer les URLs\n",
    "    sms = re.sub(r'(http|https)://[^\\s]+', 'httpaddr', sms)\n",
    "    # Remplacer les symboles monétaires\n",
    "    sms = re.sub(r'\\£|\\$', 'moneysymb', sms)\n",
    "    # Remplacer les numéros de téléphone (au format général)\n",
    "    sms = re.sub(r'\\b\\d{10,}\\b', 'phonenumbr', sms)\n",
    "    # Remplacer les nombres\n",
    "    sms = re.sub(r'\\b\\d+\\b', 'numbr', sms)\n",
    "    \n",
    "    return sms\n",
    "\n",
    "# Appliquer le prétraitement à une liste de SMS\n",
    "def preprocess_sms_list(sms_list):\n",
    "    return [preprocess_sms(sms) for sms in sms_list]\n",
    "\n",
    "# Chargement des données\n",
    "data = pd.read_csv('spam.csv', names=['label', 'message'])\n",
    "\n",
    "print(data.describe())\n",
    "# Vérification des valeurs manquantes\n",
    "print(data.isnull().sum())\n",
    "\n",
    "# Suppression des lignes contenant des valeurs manquantes\n",
    "data.dropna(subset=['label', 'message'], inplace=True)\n",
    "\n",
    "# Suppression des lignes où les messages ou labels sont des chaînes vides ou contenant uniquement des espaces\n",
    "# Supprimer les espaces en début et fin\n",
    "data['label'] = data['label'].str.strip()\n",
    "data['message'] = data['message'].str.strip()\n",
    "\n",
    "# Garder uniquement les lignes où les labels sont 'ham' ou 'spam'\n",
    "data = data[data['label'].isin(['ham', 'spam'])]\n",
    "\n",
    "# Vérification des valeurs non valides dans la colonne 'label'\n",
    "print(data['label'].unique())\n",
    "\n",
    "# On garde uniquement les colonnes pertinentes\n",
    "data = data[['label', 'message']]\n",
    "\n",
    "\n",
    "# Transformation des labels en binaire: spam = 1, ham = 0\n",
    "data['label'] = data['label'].map({'ham': 0, 'spam': 1})\n",
    "\n",
    "# Préparation des données\n",
    "X = data['message']  # les SMS\n",
    "y = data['label']    # les étiquettes (spam ou ham)\n",
    "\n",
    "# Appliquer le prétraitement aux SMS\n",
    "preprocessed_sms = preprocess_sms_list(X)\n",
    "\n",
    "# Vectorisation des SMS en compte de mots\n",
    "vectorizer = CountVectorizer()\n",
    "X = vectorizer.fit_transform(preprocessed_sms)\n",
    "\n",
    "# Séparation des données en jeu d'entraînement et de test\n",
    "X_train, X_test, y_train, y_test = train_test_split(\n",
    "    X, y, test_size=0.30, random_state=42)\n",
    "\n",
    "# Modèle de classification Naive Bayes\n",
    "nb = MultinomialNB()\n",
    "nb.fit(X_train, y_train)\n",
    "\n",
    "# Prédiction sur le jeu de test\n",
    "y_pred = nb.predict(X_test)\n",
    "\n",
    "# Évaluation du modèle\n",
    "accuracy = accuracy_score(y_test, y_pred)\n",
    "report = classification_report(y_test, y_pred)\n",
    "\n",
    "print(f\"Accuracy: {accuracy}\")\n",
    "print(\"Classification Report:\\n\", report)"
   ]
  },
  {
   "cell_type": "markdown",
   "metadata": {},
   "source": [
    "Accuracy (Précision globale) :\n",
    "Le modèle atteint une précision de 95%. Cela signifie que 95% des prédictions sont correctes (qu'il s'agisse de ham ou de spam).\n",
    "\n",
    "Precision, Recall, F1-Score :\n",
    "Pour la classe 0 (Ham) :\n",
    "Precision : 1.00 (aucun faux positif pour cette classe, ce qui est parfait).\n",
    "Recall : 0.92 (le modèle a trouvé 92% des vrais \"ham\" sans les classer à tort comme spam).\n",
    "F1-Score : 0.96, ce qui montre un excellent équilibre entre précision et rappel.\n",
    "\n",
    "Pour la classe 1 (Spam) :\n",
    "Precision : 0.88 (quelques faux positifs pour le spam, mais cela reste bon).\n",
    "Recall : 1.00 (le modèle n'a raté aucun spam dans les prédictions).\n",
    "\n",
    "F1-Score : 0.93, ce qui est également une bonne performance pour la classe spam.\n",
    "\n",
    "\n",
    "Macro Avg et Weighted Avg :\n",
    "Macro Avg calcule la moyenne des métriques pour chaque classe sans pondération, ce qui montre un équilibre global de 0.94 à 0.96 pour précision, rappel et F1-score.\n",
    "Weighted Avg prend en compte le support (nombre d'occurrences par classe) et montre que le modèle gère bien l'ensemble du jeu de données, même avec un déséquilibre entre les classes (13 ham et 7 spam)."
   ]
  },
  {
   "cell_type": "markdown",
   "metadata": {},
   "source": [
    "Le modèle fonctionne très bien, avec une précision élevée pour les deux classes. Quelques ajustements pourraient améliorer la précision pour la classe spam, mais globalement, c'est un excellent résultat avec un bon équilibre entre les classes."
   ]
  },
  {
   "cell_type": "code",
   "execution_count": 21,
   "metadata": {},
   "outputs": [
    {
     "name": "stdout",
     "output_type": "stream",
     "text": [
      "SMS: Congratulations! You have won a free vacation. Click here to claim your prize.\n",
      "Predicted: spam\n",
      "\n",
      "SMS: Are we still on for the meeting tomorrow morning?\n",
      "Predicted: ham\n",
      "\n",
      "SMS: Get your free coupon today! Limited time offer, click now!\n",
      "Predicted: spam\n",
      "\n",
      "SMS: Hey, don't forget to bring the documents for our meeting later.\n",
      "Predicted: ham\n",
      "\n",
      "SMS: Your account has been compromised. Please call 123-456-7890 immediately.\n",
      "Predicted: spam\n",
      "\n",
      "SMS: Let's have lunch tomorrow, I'll text you the details.\n",
      "Predicted: ham\n",
      "\n"
     ]
    }
   ],
   "source": [
    "new_sms = [\n",
    "    \"Congratulations! You have won a free vacation. Click here to claim your prize.\",\n",
    "    \"Are we still on for the meeting tomorrow morning?\",\n",
    "    \"Get your free coupon today! Limited time offer, click now!\",\n",
    "    \"Hey, don't forget to bring the documents for our meeting later.\",\n",
    "    \"Your account has been compromised. Please call 123-456-7890 immediately.\",\n",
    "    \"Let's have lunch tomorrow, I'll text you the details.\"\n",
    "]\n",
    "\n",
    "# Vectorisation des nouveaux SMS\n",
    "new_sms_vectorized = vectorizer.transform(new_sms)\n",
    "\n",
    "# Prédiction avec le modèle Naive Bayes déjà entraîné\n",
    "predictions = nb.predict(new_sms_vectorized)\n",
    "\n",
    "# Affichage des résultats\n",
    "for sms, label in zip(new_sms, predictions):\n",
    "    print(f\"SMS: {sms}\\nPredicted: {'spam' if label == 1 else 'ham'}\\n\")"
   ]
  },
  {
   "cell_type": "code",
   "execution_count": 22,
   "metadata": {},
   "outputs": [
    {
     "data": {
      "image/png": "[encoded data removed]",
      "text/plain": [
       "<Figure size 600x400 with 2 Axes>"
      ]
     },
     "metadata": {},
     "output_type": "display_data"
    }
   ],
   "source": [
    "import matplotlib.pyplot as plt\n",
    "import seaborn as sns\n",
    "from sklearn.metrics import confusion_matrix\n",
    "\n",
    "\n",
    "# Calcul de la matrice de confusion\n",
    "cm = confusion_matrix(y_test, y_pred)\n",
    "\n",
    "# Affichage de la matrice de confusion\n",
    "plt.figure(figsize=(6, 4))\n",
    "sns.heatmap(cm, annot=True, fmt='d', cmap='Blues', xticklabels=[\n",
    "            'ham', 'spam'], yticklabels=['ham', 'spam'])\n",
    "plt.xlabel('Prédiction')\n",
    "plt.ylabel('Vérité terrain')\n",
    "plt.title('Matrice de confusion')\n",
    "plt.show()"
   ]
  },
  {
   "cell_type": "markdown",
   "metadata": {},
   "source": [
    "## Processing Messages"
   ]
  },
  {
   "cell_type": "code",
   "execution_count": 13,
   "metadata": {},
   "outputs": [
    {
     "name": "stdout",
     "output_type": "stream",
     "text": [
      "\t\t\t\t MESSAGE  0\n",
      "\n",
      " After Regular Expression - Message  0  :  Go until jurong point  crazy   Available only in bugis n great world la e buffet    Cine there got amore wat   \n",
      "\n",
      " Lower case Message  0  :  go until jurong point  crazy   available only in bugis n great world la e buffet    cine there got amore wat   \n",
      "\n",
      " After Splitting - Message  0  :  ['go', 'until', 'jurong', 'point', 'crazy', 'available', 'only', 'in', 'bugis', 'n', 'great', 'world', 'la', 'e', 'buffet', 'cine', 'there', 'got', 'amore', 'wat']\n",
      "\n",
      " After Stemming - Message  0  :  ['go', 'jurong', 'point', 'crazi', 'avail', 'bugi', 'n', 'great', 'world', 'la', 'e', 'buffet', 'cine', 'got', 'amor', 'wat']\n",
      "\n",
      " Final Prepared - Message  0  :  go jurong point crazi avail bugi n great world la e buffet cine got amor wat \n",
      "\n",
      "\n",
      "\t\t\t\t MESSAGE  1\n",
      "\n",
      " After Regular Expression - Message  1  :  Ok lar    Joking wif u oni   \n",
      "\n",
      " Lower case Message  1  :  ok lar    joking wif u oni   \n",
      "\n",
      " After Splitting - Message  1  :  ['ok', 'lar', 'joking', 'wif', 'u', 'oni']\n",
      "\n",
      " After Stemming - Message  1  :  ['ok', 'lar', 'joke', 'wif', 'u', 'oni']\n",
      "\n",
      " Final Prepared - Message  1  :  ok lar joke wif u oni \n",
      "\n",
      "\n"
     ]
    }
   ],
   "source": [
    "for i in range(0, 5572):\n",
    "\n",
    "    # Applying Regular Expression\n",
    "    \n",
    "    '''\n",
    "    Replace email addresses with 'emailaddr'\n",
    "    Replace URLs with 'httpaddr'\n",
    "    Replace money symbols with 'moneysymb'\n",
    "    Replace phone numbers with 'phonenumbr'\n",
    "    Replace numbers with 'numbr'\n",
    "    '''\n",
    "    msg = df['v2'][i]\n",
    "    msg = re.sub('\\b[\\w\\-.]+?@\\w+?\\.\\w{2,4}\\b', 'emailaddr', df['v2'][i])\n",
    "    msg = re.sub('(http[s]?\\S+)|(\\w+\\.[A-Za-z]{2,4}\\S*)', 'httpaddr', df['v2'][i])\n",
    "    msg = re.sub('£|\\$', 'moneysymb', df['v2'][i])\n",
    "    msg = re.sub('\\b(\\+\\d{1,2}\\s)?\\d?[\\-(.]?\\d{3}\\)?[\\s.-]?\\d{3}[\\s.-]?\\d{4}\\b', 'phonenumbr', df['v2'][i])\n",
    "    msg = re.sub('\\d+(\\.\\d+)?', 'numbr', df['v2'][i])\n",
    "    \n",
    "    ''' Remove all punctuations '''\n",
    "    msg = re.sub('[^\\w\\d\\s]', ' ', df['v2'][i])\n",
    "    \n",
    "    if i<2:\n",
    "        print(\"\\t\\t\\t\\t MESSAGE \", i)\n",
    "    \n",
    "    if i<2:\n",
    "        print(\"\\n After Regular Expression - Message \", i, \" : \", msg)\n",
    "    \n",
    "    # Each word to lower case\n",
    "    msg = msg.lower()    \n",
    "    if i<2:\n",
    "        print(\"\\n Lower case Message \", i, \" : \", msg)\n",
    "    \n",
    "    # Splitting words to Tokenize\n",
    "    msg = msg.split()    \n",
    "    if i<2:\n",
    "        print(\"\\n After Splitting - Message \", i, \" : \", msg)\n",
    "    \n",
    "    # Stemming with PorterStemmer handling Stop Words\n",
    "    msg = [ps.stem(word) for word in msg if not word in set(stopwords.words('english'))]\n",
    "    if i<2:\n",
    "        print(\"\\n After Stemming - Message \", i, \" : \", msg)\n",
    "    \n",
    "    # preparing Messages with Remaining Tokens\n",
    "    msg = ' '.join(msg)\n",
    "    if i<2:\n",
    "        print(\"\\n Final Prepared - Message \", i, \" : \", msg, \"\\n\\n\")\n",
    "    \n",
    "    # Preparing WordVector Corpus\n",
    "    corpus.append(msg)"
   ]
  },
  {
   "cell_type": "code",
   "execution_count": 14,
   "metadata": {},
   "outputs": [],
   "source": [
    "cv = CountVectorizer()\n",
    "x = cv.fit_transform(corpus).toarray()"
   ]
  },
  {
   "cell_type": "markdown",
   "metadata": {},
   "source": [
    "# Applying Classification"
   ]
  },
  {
   "cell_type": "markdown",
   "metadata": {},
   "source": [
    "- Input : Prepared Sparse Matrix\n",
    "- Ouput : Labels (Spam or Ham)"
   ]
  },
  {
   "cell_type": "code",
   "execution_count": 15,
   "metadata": {},
   "outputs": [
    {
     "name": "stdout",
     "output_type": "stream",
     "text": [
      "0    4825\n",
      "1     747\n",
      "Name: v1, dtype: int64\n",
      "0\n",
      "0\n"
     ]
    }
   ],
   "source": [
    "y = df['v1']\n",
    "print (y.value_counts())\n",
    "\n",
    "print(y[0])\n",
    "print(y[1])"
   ]
  },
  {
   "cell_type": "markdown",
   "metadata": {},
   "source": [
    "### Encoding Labels"
   ]
  },
  {
   "cell_type": "code",
   "execution_count": 17,
   "metadata": {},
   "outputs": [
    {
     "name": "stdout",
     "output_type": "stream",
     "text": [
      "0\n",
      "0\n"
     ]
    }
   ],
   "source": [
    "le = LabelEncoder()\n",
    "y = le.fit_transform(y)\n",
    "\n",
    "print(y[0])\n",
    "print(y[1])"
   ]
  },
  {
   "cell_type": "markdown",
   "metadata": {},
   "source": [
    "### Splitting to Training and Testing DATA"
   ]
  },
  {
   "cell_type": "code",
   "execution_count": 18,
   "metadata": {},
   "outputs": [],
   "source": [
    "xtrain, xtest, ytrain, ytest = train_test_split(x, y,test_size= 0.20, random_state = 0)"
   ]
  },
  {
   "cell_type": "markdown",
   "metadata": {},
   "source": [
    "# Applying Guassian Naive Bayes"
   ]
  },
  {
   "cell_type": "code",
   "execution_count": 19,
   "metadata": {},
   "outputs": [
    {
     "data": {
      "text/plain": [
       "GaussianNB(priors=None)"
      ]
     },
     "execution_count": 19,
     "metadata": {},
     "output_type": "execute_result"
    }
   ],
   "source": [
    "bayes_classifier = GaussianNB()\n",
    "bayes_classifier.fit(xtrain, ytrain)"
   ]
  },
  {
   "cell_type": "code",
   "execution_count": 20,
   "metadata": {},
   "outputs": [],
   "source": [
    "# Predicting\n",
    "y_pred = bayes_classifier.predict(xtest)"
   ]
  },
  {
   "cell_type": "markdown",
   "metadata": {},
   "source": [
    "## Results"
   ]
  },
  {
   "cell_type": "code",
   "execution_count": 21,
   "metadata": {},
   "outputs": [],
   "source": [
    "# Evaluating\n",
    "cm = confusion_matrix(ytest, y_pred)"
   ]
  },
  {
   "cell_type": "code",
   "execution_count": 22,
   "metadata": {},
   "outputs": [
    {
     "data": {
      "text/plain": [
       "array([[824, 125],\n",
       "       [ 19, 147]], dtype=int64)"
      ]
     },
     "execution_count": 22,
     "metadata": {},
     "output_type": "execute_result"
    }
   ],
   "source": [
    "cm"
   ]
  },
  {
   "cell_type": "code",
   "execution_count": 23,
   "metadata": {},
   "outputs": [
    {
     "name": "stdout",
     "output_type": "stream",
     "text": [
      "Accuracy : 0.87085 \n",
      "\n",
      "\n",
      "             precision    recall  f1-score   support\n",
      "\n",
      "          0       0.98      0.87      0.92       949\n",
      "          1       0.54      0.89      0.67       166\n",
      "\n",
      "avg / total       0.91      0.87      0.88      1115\n",
      "\n"
     ]
    }
   ],
   "source": [
    "print (\"Accuracy : %0.5f \\n\\n\" % accuracy_score(ytest, bayes_classifier.predict(xtest)))\n",
    "print (classification_report(ytest, bayes_classifier.predict(xtest)))"
   ]
  },
  {
   "cell_type": "markdown",
   "metadata": {},
   "source": [
    "# Applying Decision Tree"
   ]
  },
  {
   "cell_type": "code",
   "execution_count": 25,
   "metadata": {},
   "outputs": [
    {
     "data": {
      "text/plain": [
       "DecisionTreeClassifier(class_weight=None, criterion='gini', max_depth=None,\n",
       "            max_features=None, max_leaf_nodes=None,\n",
       "            min_impurity_decrease=0.0, min_impurity_split=None,\n",
       "            min_samples_leaf=1, min_samples_split=2,\n",
       "            min_weight_fraction_leaf=0.0, presort=False, random_state=50,\n",
       "            splitter='best')"
      ]
     },
     "execution_count": 25,
     "metadata": {},
     "output_type": "execute_result"
    }
   ],
   "source": [
    "dt = DecisionTreeClassifier(random_state=50)\n",
    "dt.fit(xtrain, ytrain)"
   ]
  },
  {
   "cell_type": "code",
   "execution_count": 31,
   "metadata": {},
   "outputs": [],
   "source": [
    "# Predicting\n",
    "y_pred_dt = dt.predict(xtest)"
   ]
  },
  {
   "cell_type": "markdown",
   "metadata": {},
   "source": [
    "## Results"
   ]
  },
  {
   "cell_type": "code",
   "execution_count": 33,
   "metadata": {},
   "outputs": [
    {
     "name": "stdout",
     "output_type": "stream",
     "text": [
      "[[943   6]\n",
      " [ 29 137]]\n"
     ]
    }
   ],
   "source": [
    "# Evaluating\n",
    "cm = confusion_matrix(ytest, y_pred_dt)\n",
    "\n",
    "print(cm)"
   ]
  },
  {
   "cell_type": "code",
   "execution_count": 30,
   "metadata": {},
   "outputs": [
    {
     "name": "stdout",
     "output_type": "stream",
     "text": [
      "Accuracy : 0.96861 \n",
      "\n",
      "\n",
      "             precision    recall  f1-score   support\n",
      "\n",
      "          0       0.97      0.99      0.98       949\n",
      "          1       0.96      0.83      0.89       166\n",
      "\n",
      "avg / total       0.97      0.97      0.97      1115\n",
      "\n"
     ]
    }
   ],
   "source": [
    "print (\"Accuracy : %0.5f \\n\\n\" % accuracy_score(ytest, dt.predict(xtest)))\n",
    "print (classification_report(ytest, dt.predict(xtest)))"
   ]
  },
  {
   "cell_type": "markdown",
   "metadata": {},
   "source": [
    "# Final Accuracy"
   ]
  },
  {
   "cell_type": "markdown",
   "metadata": {},
   "source": [
    "- **Decision Tree : 96.861%**\n",
    "- **Guassian NB   : 87.085%**   "
   ]
  },
  {
   "cell_type": "markdown",
   "metadata": {},
   "source": [
    "Thanks for having a look :) ....Please give my kernel an **UPVOTE** "
   ]
  }
 ],
 "metadata": {
  "kernelspec": {
   "display_name": "Python 3",
   "language": "python",
   "name": "python3"
  },
  "language_info": {
   "codemirror_mode": {
    "name": "ipython",
    "version": 3
   },
   "file_extension": ".py",
   "mimetype": "text/x-python",
   "name": "python",
   "nbconvert_exporter": "python",
   "pygments_lexer": "ipython3",
   "version": "3.12.0"
  }
 },
 "nbformat": 4,
 "nbformat_minor": 2
}
