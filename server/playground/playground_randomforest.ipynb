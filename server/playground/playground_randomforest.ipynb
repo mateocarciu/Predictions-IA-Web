{
 "cells": [
  {
   "cell_type": "code",
   "execution_count": 2,
   "metadata": {},
   "outputs": [
    {
     "name": "stdout",
     "output_type": "stream",
     "text": [
      "R² (Coefficient de détermination): -1.1485\n",
      "RMSE (Root Mean Squared Error): 916.11\n",
      "Voiture 1: €4663.00\n",
      "Voiture 2: €16116.00\n",
      "Voiture 3: €5789.00\n",
      "Voiture 4: €7780.00\n",
      "Voiture 5: €4405.00\n",
      "Voiture 6: €12027.00\n",
      "Voiture 7: €9908.00\n",
      "Voiture 8: €5352.00\n",
      "Voiture 9: €4663.00\n",
      "Voiture 10: €4672.00\n"
     ]
    },
    {
     "name": "stderr",
     "output_type": "stream",
     "text": [
      "<>:20: SyntaxWarning: invalid escape sequence '\\$'\n",
      "<>:20: SyntaxWarning: invalid escape sequence '\\$'\n",
      "C:\\Users\\julie\\AppData\\Local\\Temp\\ipykernel_30320\\380088524.py:20: SyntaxWarning: invalid escape sequence '\\$'\n",
      "  df['Price'] = df['Price'].replace('[\\$,]', '', regex=True).astype(\n"
     ]
    }
   ],
   "source": [
    "import pandas as pd\n",
    "import numpy as np\n",
    "from sklearn.model_selection import train_test_split\n",
    "from sklearn.preprocessing import LabelEncoder, StandardScaler\n",
    "from sklearn.ensemble import RandomForestRegressor\n",
    "from sklearn.metrics import mean_squared_error, r2_score\n",
    "\n",
    "# Charger les données\n",
    "data = {\n",
    "    'Make': ['Toyota', 'Honda', 'Toyota', 'BMW', 'Nissan', 'Toyota', 'Honda', 'Honda', 'Toyota', 'Nissan'],\n",
    "    'Colour': ['White', 'Red', 'Blue', 'Black', 'White', 'Green', 'Blue', 'Blue', 'White', 'White'],\n",
    "    'Odometer (KM)': [150043, 87899, 32549, 11179, 213095, 99213, 45698, 54738, 60000, 31600],\n",
    "    'Doors': [4, 4, 3, 5, 4, 4, 4, 4, 4, 4],\n",
    "    'Price': ['$4,000.00', '$5,000.00', '$7,000.00', '$22,000.00', '$3,500.00', '$4,500.00', '$7,500.00', '$7,000.00', '$6,250.00', '$9,700.00']\n",
    "}\n",
    "\n",
    "df = pd.DataFrame(data)\n",
    "\n",
    "# Prétraitement des données\n",
    "df['Price'] = df['Price'].replace('[\\$,]', '', regex=True).astype(\n",
    "    float)  # Enlever les signes \"$\" et convertir en float\n",
    "le_make = LabelEncoder()\n",
    "df['Make'] = le_make.fit_transform(df['Make'])\n",
    "le_color = LabelEncoder()\n",
    "df['Colour'] = le_color.fit_transform(df['Colour'])\n",
    "\n",
    "# Séparer les caractéristiques et la cible\n",
    "X = df[['Make', 'Colour', 'Odometer (KM)', 'Doors']]\n",
    "y = df['Price']\n",
    "\n",
    "# Diviser les données en ensemble d'entraînement et de test\n",
    "X_train, X_test, y_train, y_test = train_test_split(\n",
    "    X, y, test_size=0.2, random_state=42)\n",
    "\n",
    "# Normalisation des données\n",
    "scaler = StandardScaler()\n",
    "X_train = scaler.fit_transform(X_train)\n",
    "X_test = scaler.transform(X_test)\n",
    "\n",
    "# Entraîner le modèle RandomForest\n",
    "model = RandomForestRegressor(n_estimators=100, random_state=42)\n",
    "model.fit(X_train, y_train)\n",
    "\n",
    "# Faire des prédictions sur l'ensemble de test\n",
    "y_pred = model.predict(X_test)\n",
    "\n",
    "# Calculer R² et RMSE\n",
    "r2 = r2_score(y_test, y_pred)\n",
    "rmse = np.sqrt(mean_squared_error(y_test, y_pred))\n",
    "\n",
    "# Afficher R² et RMSE\n",
    "print(f\"R² (Coefficient de détermination): {r2:.4f}\")\n",
    "print(f\"RMSE (Root Mean Squared Error): {rmse:.2f}\")\n",
    "\n",
    "# Prédire les prix pour 10 nouvelles voitures\n",
    "new_cars = pd.DataFrame({\n",
    "    'Make': ['Toyota', 'BMW', 'Honda', 'Nissan', 'Toyota', 'BMW', 'Honda', 'Nissan', 'Toyota', 'Honda'],\n",
    "    'Colour': ['Red', 'Black', 'Blue', 'White', 'Green', 'Blue', 'Black', 'White', 'Red', 'Green'],\n",
    "    'Odometer (KM)': [120000, 5000, 80000, 40000, 150000, 25000, 60000, 90000, 110000, 130000],\n",
    "    'Doors': [4, 5, 4, 4, 4, 5, 4, 3, 4, 4]\n",
    "})\n",
    "\n",
    "# Encoder et normaliser les nouvelles données\n",
    "new_cars['Make'] = le_make.transform(new_cars['Make'])\n",
    "new_cars['Colour'] = le_color.transform(new_cars['Colour'])\n",
    "new_cars_scaled = scaler.transform(new_cars)\n",
    "\n",
    "# Faire des prédictions pour les nouvelles voitures\n",
    "predicted_prices = model.predict(new_cars_scaled)\n",
    "\n",
    "# Afficher les prix prédits pour les nouvelles voitures\n",
    "for i, price in enumerate(predicted_prices, 1):\n",
    "    print(f\"Voiture {i}: €{price:.2f}\")"
   ]
  }
 ],
 "metadata": {
  "kernelspec": {
   "display_name": "ml",
   "language": "python",
   "name": "python3"
  },
  "language_info": {
   "codemirror_mode": {
    "name": "ipython",
    "version": 3
   },
   "file_extension": ".py",
   "mimetype": "text/x-python",
   "name": "python",
   "nbconvert_exporter": "python",
   "pygments_lexer": "ipython3",
   "version": "3.12.0"
  }
 },
 "nbformat": 4,
 "nbformat_minor": 2
}
