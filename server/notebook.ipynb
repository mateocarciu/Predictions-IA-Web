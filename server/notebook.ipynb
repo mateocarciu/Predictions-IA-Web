{
 "cells": [
  {
   "cell_type": "markdown",
   "metadata": {},
   "source": [
    "1. Préparation du Dataset"
   ]
  },
  {
   "cell_type": "code",
   "execution_count": 10,
   "metadata": {},
   "outputs": [
    {
     "data": {
      "text/html": [
       "<div>\n",
       "<style scoped>\n",
       "    .dataframe tbody tr th:only-of-type {\n",
       "        vertical-align: middle;\n",
       "    }\n",
       "\n",
       "    .dataframe tbody tr th {\n",
       "        vertical-align: top;\n",
       "    }\n",
       "\n",
       "    .dataframe thead th {\n",
       "        text-align: right;\n",
       "    }\n",
       "</style>\n",
       "<table border=\"1\" class=\"dataframe\">\n",
       "  <thead>\n",
       "    <tr style=\"text-align: right;\">\n",
       "      <th></th>\n",
       "      <th>nbRooms</th>\n",
       "      <th>surface</th>\n",
       "      <th>nbWindows</th>\n",
       "      <th>price</th>\n",
       "      <th>id</th>\n",
       "      <th>year</th>\n",
       "      <th>balcony</th>\n",
       "      <th>garage</th>\n",
       "      <th>note</th>\n",
       "      <th>price_category</th>\n",
       "      <th>city</th>\n",
       "    </tr>\n",
       "  </thead>\n",
       "  <tbody>\n",
       "    <tr>\n",
       "      <th>0</th>\n",
       "      <td>4</td>\n",
       "      <td>75</td>\n",
       "      <td>10</td>\n",
       "      <td>250000</td>\n",
       "      <td>1</td>\n",
       "      <td>2022</td>\n",
       "      <td>True</td>\n",
       "      <td>True</td>\n",
       "      <td>4</td>\n",
       "      <td>normal</td>\n",
       "      <td>Paris</td>\n",
       "    </tr>\n",
       "    <tr>\n",
       "      <th>1</th>\n",
       "      <td>3</td>\n",
       "      <td>65</td>\n",
       "      <td>5</td>\n",
       "      <td>210000</td>\n",
       "      <td>2</td>\n",
       "      <td>2021</td>\n",
       "      <td>False</td>\n",
       "      <td>False</td>\n",
       "      <td>3</td>\n",
       "      <td>normal</td>\n",
       "      <td>Lyon</td>\n",
       "    </tr>\n",
       "    <tr>\n",
       "      <th>2</th>\n",
       "      <td>5</td>\n",
       "      <td>120</td>\n",
       "      <td>12</td>\n",
       "      <td>450000</td>\n",
       "      <td>3</td>\n",
       "      <td>2019</td>\n",
       "      <td>True</td>\n",
       "      <td>True</td>\n",
       "      <td>5</td>\n",
       "      <td>normal</td>\n",
       "      <td>Marseille</td>\n",
       "    </tr>\n",
       "    <tr>\n",
       "      <th>3</th>\n",
       "      <td>2</td>\n",
       "      <td>40</td>\n",
       "      <td>3</td>\n",
       "      <td>120000</td>\n",
       "      <td>4</td>\n",
       "      <td>2023</td>\n",
       "      <td>False</td>\n",
       "      <td>False</td>\n",
       "      <td>2</td>\n",
       "      <td>low</td>\n",
       "      <td>Paris</td>\n",
       "    </tr>\n",
       "    <tr>\n",
       "      <th>4</th>\n",
       "      <td>3</td>\n",
       "      <td>80</td>\n",
       "      <td>7</td>\n",
       "      <td>300000</td>\n",
       "      <td>5</td>\n",
       "      <td>2020</td>\n",
       "      <td>True</td>\n",
       "      <td>True</td>\n",
       "      <td>4</td>\n",
       "      <td>normal</td>\n",
       "      <td>Lyon</td>\n",
       "    </tr>\n",
       "  </tbody>\n",
       "</table>\n",
       "</div>"
      ],
      "text/plain": [
       "   nbRooms  surface  nbWindows   price  id  year  balcony  garage  note  \\\n",
       "0        4       75         10  250000   1  2022     True    True     4   \n",
       "1        3       65          5  210000   2  2021    False   False     3   \n",
       "2        5      120         12  450000   3  2019     True    True     5   \n",
       "3        2       40          3  120000   4  2023    False   False     2   \n",
       "4        3       80          7  300000   5  2020     True    True     4   \n",
       "\n",
       "  price_category       city  \n",
       "0         normal      Paris  \n",
       "1         normal       Lyon  \n",
       "2         normal  Marseille  \n",
       "3            low      Paris  \n",
       "4         normal       Lyon  "
      ]
     },
     "execution_count": 10,
     "metadata": {},
     "output_type": "execute_result"
    }
   ],
   "source": [
    "import pandas as pd\n",
    "import numpy as np\n",
    "\n",
    "# j'ai commenté car j'ai déja les colonnes dans le fichier csv\n",
    "# df = pd.DataFrame({\n",
    "#     'surface': np.random.randint(30, 200, 50),\n",
    "#     'nbRooms': np.random.randint(1, 6, 50),\n",
    "#     'price': np.random.randint(100000, 1000000, 50)\n",
    "# })\n",
    "\n",
    "# df['annee'] = np.random.randint(2005, 2025, df.shape[0])  # années entre 2005 et 2024\n",
    "# df['balcon'] = np.random.choice([True, False], df.shape[0])  # booléen pour balcon\n",
    "# df['garage'] = np.random.choice([True, False], df.shape[0])  # booléen pour garage\n",
    "# df['note'] = np.random.randint(1, 6, df.shape[0])  # note de 1 à 5\n",
    "\n",
    "df = pd.read_csv('appartementsTraining.csv')\n",
    "\n",
    "# Catégorisation du prix\n",
    "def categorize_price(price):\n",
    "    if price < 200000:\n",
    "        return 'low'\n",
    "    elif 200000 <= price < 500000:\n",
    "        return 'normal'\n",
    "    elif 500000 <= price < 800000:\n",
    "        return 'high'\n",
    "    else:\n",
    "        return 'scam'\n",
    "\n",
    "df['price_category'] = df['price'].apply(categorize_price)\n",
    "\n",
    "df.head()\n"
   ]
  },
  {
   "cell_type": "markdown",
   "metadata": {},
   "source": []
  },
  {
   "cell_type": "markdown",
   "metadata": {},
   "source": [
    "3. Analyse des données avec Numpy et Pandas"
   ]
  },
  {
   "cell_type": "code",
   "execution_count": 11,
   "metadata": {},
   "outputs": [
    {
     "name": "stdout",
     "output_type": "stream",
     "text": [
      "Surface - Moyenne: 85.0, Ecart-type: 31.069375958473636, Min: 35, Max: 150\n",
      "Année de construction - Moyenne: 2020.98, Ancien: 2015, Récent: 2023\n",
      "Proportion d'appartements avec balcon: 0.66\n",
      "Nombre d'appartements par catégorie de prix:\n",
      "price_category\n",
      "normal    30\n",
      "high      11\n",
      "low        9\n",
      "Name: count, dtype: int64\n",
      "Nombre de chambres - Moyenne: 3.7, Médiane: 4.0, Variance: 0.9489795918367354, Ecart-type: 0.9741558354989901\n"
     ]
    }
   ],
   "source": [
    "# Moyenne, écart-type, surface minimale et maximale\n",
    "surface_mean = df['surface'].mean()\n",
    "surface_std = df['surface'].std()\n",
    "surface_min = df['surface'].min()\n",
    "surface_max = df['surface'].max()\n",
    "\n",
    "# Année de construction: Moyenne, la plus ancienne, la plus récente\n",
    "annee_mean = df['year'].mean()\n",
    "annee_min = df['year'].min()\n",
    "annee_max = df['year'].max()\n",
    "\n",
    "# Proportion d'appartements avec balcon\n",
    "balcon_proportion = df['balcony'].mean()\n",
    "\n",
    "# Comptage du nombre d'appartements dans chaque catégorie de prix\n",
    "price_category_counts = df['price_category'].value_counts()\n",
    "\n",
    "# Nombre de chambres: Moyenne, médiane, variance, écart-type\n",
    "nbRooms_mean = df['nbRooms'].mean()\n",
    "nbRooms_median = df['nbRooms'].median()\n",
    "nbRooms_variance = df['nbRooms'].var()\n",
    "nbRooms_std = df['nbRooms'].std()\n",
    "\n",
    "# Affichage des résultats\n",
    "print(f\"Surface - Moyenne: {surface_mean}, Ecart-type: {surface_std}, Min: {surface_min}, Max: {surface_max}\")\n",
    "print(f\"Année de construction - Moyenne: {annee_mean}, Ancien: {annee_min}, Récent: {annee_max}\")\n",
    "print(f\"Proportion d'appartements avec balcon: {balcon_proportion}\")\n",
    "print(f\"Nombre d'appartements par catégorie de prix:\\n{price_category_counts}\")\n",
    "print(f\"Nombre de chambres - Moyenne: {nbRooms_mean}, Médiane: {nbRooms_median}, Variance: {nbRooms_variance}, Ecart-type: {nbRooms_std}\")\n"
   ]
  },
  {
   "cell_type": "markdown",
   "metadata": {},
   "source": [
    "4. Visualisation avec Matplotlib"
   ]
  },
  {
   "cell_type": "code",
   "execution_count": 12,
   "metadata": {},
   "outputs": [
    {
     "data": {
      "image/png": "[encoded data removed]",
      "text/plain": [
       "<Figure size 640x480 with 1 Axes>"
      ]
     },
     "metadata": {},
     "output_type": "display_data"
    },
    {
     "data": {
      "image/png": "[encoded data removed]",
      "text/plain": [
       "<Figure size 640x480 with 2 Axes>"
      ]
     },
     "metadata": {},
     "output_type": "display_data"
    }
   ],
   "source": [
    "import matplotlib.pyplot as plt\n",
    "import numpy as np\n",
    "\n",
    "# la répartition des catégories de prix\n",
    "price_category_counts = df['price_category'].value_counts()\n",
    "plt.bar(price_category_counts.index, price_category_counts.values)\n",
    "plt.title(\"Répartition des catégories de prix\")\n",
    "plt.xlabel(\"Catégorie de prix\")\n",
    "plt.ylabel(\"Nombre d'appartements\")\n",
    "plt.xticks(rotation=45)\n",
    "plt.show()\n",
    "\n",
    "# le bonus pour la corrélation entre l'année de construction et le prix\n",
    "correlation_matrix = df[['year', 'price']].corr()\n",
    "\n",
    "plt.imshow(correlation_matrix, cmap='coolwarm', interpolation='none', aspect='auto')\n",
    "plt.colorbar()\n",
    "plt.xticks(range(len(correlation_matrix.columns)), correlation_matrix.columns, rotation=45)\n",
    "plt.yticks(range(len(correlation_matrix.index)), correlation_matrix.index)\n",
    "plt.title(\"Corrélation entre l'année de construction et le prix\")\n",
    "plt.show()\n",
    "\n"
   ]
  },
  {
   "cell_type": "markdown",
   "metadata": {},
   "source": [
    "1. Compléter avec une nouvelle colonne ville"
   ]
  },
  {
   "cell_type": "code",
   "execution_count": 13,
   "metadata": {},
   "outputs": [],
   "source": [
    "# cities = ['Lyon', 'Paris', 'Marseille']\n",
    "# df['city'] = np.random.choice(cities, size=len(df))\n",
    "\n",
    "\n",
    "# j'ai commenté car j'ai déja la colonne city dans le fichier csv"
   ]
  },
  {
   "cell_type": "markdown",
   "metadata": {},
   "source": [
    "2. PRÉDICITON LINÉAIRE SUR LA NOTE"
   ]
  },
  {
   "cell_type": "code",
   "execution_count": 14,
   "metadata": {},
   "outputs": [
    {
     "name": "stdout",
     "output_type": "stream",
     "text": [
      "Prédictions : [3.99950293 3.24084922 4.35010378 2.91136198 4.80081475 3.66283419\n",
      " 3.1120131  4.82285632 3.66304963 3.01908449]\n",
      "R² : 0.0626239811931869\n",
      "RMSE : 0.9133808935696344\n"
     ]
    }
   ],
   "source": [
    "from sklearn.model_selection import train_test_split\n",
    "from sklearn.linear_model import LinearRegression\n",
    "from sklearn.preprocessing import OneHotEncoder\n",
    "import numpy as np\n",
    "from sklearn.metrics import mean_squared_error, r2_score\n",
    "\n",
    "X = df[['surface', 'price', 'city']]\n",
    "y = df['note']\n",
    "\n",
    "encoder = OneHotEncoder(sparse_output=False)\n",
    "X_encoded = encoder.fit_transform(X[['city']])\n",
    "X_encoded = np.concatenate((X[['surface', 'price']].values, X_encoded), axis=1)\n",
    "\n",
    "X_train, X_test, y_train, y_test = train_test_split(X_encoded, y, test_size=0.2, random_state=42)\n",
    "\n",
    "# la régression linéaire\n",
    "model = LinearRegression()\n",
    "model.fit(X_train, y_train)\n",
    "\n",
    "# prédictions\n",
    "y_pred = model.predict(X_test)\n",
    "\n",
    "# calculer R² et RMSE\n",
    "r2 = r2_score(y_test, y_pred)\n",
    "rmse = np.sqrt(mean_squared_error(y_test, y_pred))\n",
    "\n",
    "print(f\"Prédictions : {y_pred}\")\n",
    "print(f\"R² : {r2}\")\n",
    "print(f\"RMSE : {rmse}\")\n"
   ]
  },
  {
   "cell_type": "markdown",
   "metadata": {},
   "source": [
    "3. PRÉDICTION LINÉAIRE SUR L'ANNÉE"
   ]
  },
  {
   "cell_type": "code",
   "execution_count": 15,
   "metadata": {},
   "outputs": [
    {
     "name": "stdout",
     "output_type": "stream",
     "text": [
      "R²: -7.25385340373451, RMSE: 4.711991686754746\n"
     ]
    }
   ],
   "source": [
    "X_year = df[['city', 'price']]\n",
    "y_year = df['year']\n",
    "\n",
    "X_year_encoded = encoder.fit_transform(X_year[['city']])\n",
    "X_year_encoded = np.concatenate((X_year[['price']].values, X_year_encoded), axis=1)\n",
    "\n",
    "X_train_year, X_test_year, y_train_year, y_test_year = train_test_split(X_year_encoded, y_year, test_size=0.2, random_state=42)\n",
    "\n",
    "# la régression linéaire\n",
    "model_year = LinearRegression()\n",
    "model_year.fit(X_train_year, y_train_year)\n",
    "\n",
    "# prédictions et évaluation\n",
    "y_pred_year = model_year.predict(X_test_year)\n",
    "\n",
    "# calculer R² et RMSE\n",
    "from sklearn.metrics import mean_squared_error, r2_score\n",
    "\n",
    "r2 = r2_score(y_test_year, y_pred_year)\n",
    "rmse = np.sqrt(mean_squared_error(y_test_year, y_pred_year))\n",
    "\n",
    "print(f\"R²: {r2}, RMSE: {rmse}\")\n"
   ]
  },
  {
   "cell_type": "markdown",
   "metadata": {},
   "source": [
    "4. CLASSIFICATION LOGISTIQUE POUR LE GARAGE"
   ]
  },
  {
   "cell_type": "code",
   "execution_count": 16,
   "metadata": {},
   "outputs": [
    {
     "name": "stdout",
     "output_type": "stream",
     "text": [
      "Prédictions (garage) : [False False  True  True  True  True  True  True  True False]\n",
      "Accuracy : 0.8\n",
      "Recall : 0.7777777777777778\n",
      "F1 Score : 0.875\n"
     ]
    },
    {
     "name": "stderr",
     "output_type": "stream",
     "text": [
      "/opt/anaconda3/envs/esgi/lib/python3.12/site-packages/sklearn/linear_model/_logistic.py:469: ConvergenceWarning: lbfgs failed to converge (status=1):\n",
      "STOP: TOTAL NO. of ITERATIONS REACHED LIMIT.\n",
      "\n",
      "Increase the number of iterations (max_iter) or scale the data as shown in:\n",
      "    https://scikit-learn.org/stable/modules/preprocessing.html\n",
      "Please also refer to the documentation for alternative solver options:\n",
      "    https://scikit-learn.org/stable/modules/linear_model.html#logistic-regression\n",
      "  n_iter_i = _check_optimize_result(\n"
     ]
    }
   ],
   "source": [
    "from sklearn.model_selection import train_test_split\n",
    "from sklearn.linear_model import LogisticRegression\n",
    "from sklearn.preprocessing import OneHotEncoder\n",
    "from sklearn.metrics import accuracy_score, recall_score, f1_score\n",
    "import numpy as np\n",
    "\n",
    "X_garage = df[['price', 'city']]\n",
    "y_garage = df['garage']\n",
    "\n",
    "encoder = OneHotEncoder(sparse_output=False)\n",
    "X_garage_encoded = encoder.fit_transform(X_garage[['city']])\n",
    "X_garage_encoded = np.concatenate((X_garage[['price']].values, X_garage_encoded), axis=1)\n",
    "\n",
    "X_train_garage, X_test_garage, y_train_garage, y_test_garage = train_test_split(X_garage_encoded, y_garage, test_size=0.2, random_state=42)\n",
    "\n",
    "log_reg = LogisticRegression()\n",
    "log_reg.fit(X_train_garage, y_train_garage)\n",
    "\n",
    "# prédictions et évaluation\n",
    "y_pred_garage = log_reg.predict(X_test_garage)\n",
    "\n",
    "# calculer les métriques\n",
    "accuracy_log = accuracy_score(y_test_garage, y_pred_garage)\n",
    "recall_log = recall_score(y_test_garage, y_pred_garage)\n",
    "f1_log = f1_score(y_test_garage, y_pred_garage)\n",
    "\n",
    "print(f\"Prédictions (garage) : {y_pred_garage}\")\n",
    "print(f\"Accuracy : {accuracy_log}\")\n",
    "print(f\"Recall : {recall_log}\")\n",
    "print(f\"F1 Score : {f1_log}\")\n"
   ]
  },
  {
   "cell_type": "markdown",
   "metadata": {},
   "source": [
    "5. CLASSIFICATION KNN POUR LE BALCON"
   ]
  },
  {
   "cell_type": "code",
   "execution_count": 17,
   "metadata": {},
   "outputs": [
    {
     "name": "stdout",
     "output_type": "stream",
     "text": [
      "Prédictions (balcon) : [False False  True  True  True  True False  True  True False]\n",
      "Accuracy : 0.8\n",
      "Recall : 0.8333333333333334\n",
      "F1 Score : 0.8333333333333334\n"
     ]
    }
   ],
   "source": [
    "from sklearn.model_selection import train_test_split\n",
    "from sklearn.neighbors import KNeighborsClassifier\n",
    "from sklearn.preprocessing import OneHotEncoder\n",
    "from sklearn.metrics import accuracy_score, recall_score, f1_score\n",
    "import numpy as np\n",
    "\n",
    "X_balcony = df[['price', 'city']]\n",
    "y_balcony = df['balcony']\n",
    "\n",
    "encoder = OneHotEncoder(sparse_output=False)\n",
    "X_balcony_encoded = encoder.fit_transform(X_balcony[['city']])\n",
    "X_balcony_encoded = np.concatenate((X_balcony[['price']].values, X_balcony_encoded), axis=1)\n",
    "\n",
    "X_train_balcony, X_test_balcony, y_train_balcony, y_test_balcony = train_test_split(X_balcony_encoded, y_balcony, test_size=0.2, random_state=42)\n",
    "\n",
    "# KNN\n",
    "knn = KNeighborsClassifier()\n",
    "knn.fit(X_train_balcony, y_train_balcony)\n",
    "\n",
    "# prédictions et évaluation\n",
    "y_pred_balcony = knn.predict(X_test_balcony)\n",
    "\n",
    "# calculer les métriques\n",
    "accuracy_knn = accuracy_score(y_test_balcony, y_pred_balcony)\n",
    "recall_knn = recall_score(y_test_balcony, y_pred_balcony)\n",
    "f1_knn = f1_score(y_test_balcony, y_pred_balcony)\n",
    "\n",
    "print(f\"Prédictions (balcon) : {y_pred_balcony}\")\n",
    "print(f\"Accuracy : {accuracy_knn}\")\n",
    "print(f\"Recall : {recall_knn}\")\n",
    "print(f\"F1 Score : {f1_knn}\")\n"
   ]
  },
  {
   "cell_type": "markdown",
   "metadata": {},
   "source": [
    "6. AFFICHAGE DES ACCURACY"
   ]
  },
  {
   "cell_type": "code",
   "execution_count": 18,
   "metadata": {},
   "outputs": [
    {
     "name": "stdout",
     "output_type": "stream",
     "text": [
      "Logistique - Accuracy: 0.8, Recall: 0.7777777777777778, F1: 0.875\n",
      "KNN - Accuracy: 0.8, Recall: 0.8333333333333334, F1: 0.8333333333333334\n"
     ]
    }
   ],
   "source": [
    "from sklearn.metrics import accuracy_score, recall_score, f1_score\n",
    "\n",
    "# Logistique\n",
    "accuracy_log = accuracy_score(y_test_garage, y_pred_garage)\n",
    "recall_log = recall_score(y_test_garage, y_pred_garage)\n",
    "f1_log = f1_score(y_test_garage, y_pred_garage)\n",
    "\n",
    "# KNN\n",
    "accuracy_knn = accuracy_score(y_test_balcony, y_pred_balcony)\n",
    "recall_knn = recall_score(y_test_balcony, y_pred_balcony)\n",
    "f1_knn = f1_score(y_test_balcony, y_pred_balcony)\n",
    "\n",
    "print(f\"Logistique - Accuracy: {accuracy_log}, Recall: {recall_log}, F1: {f1_log}\")\n",
    "print(f\"KNN - Accuracy: {accuracy_knn}, Recall: {recall_knn}, F1: {f1_knn}\")\n"
   ]
  }
 ],
 "metadata": {
  "kernelspec": {
   "display_name": "esgi",
   "language": "python",
   "name": "python3"
  },
  "language_info": {
   "codemirror_mode": {
    "name": "ipython",
    "version": 3
   },
   "file_extension": ".py",
   "mimetype": "text/x-python",
   "name": "python",
   "nbconvert_exporter": "python",
   "pygments_lexer": "ipython3",
   "version": "3.12.5"
  }
 },
 "nbformat": 4,
 "nbformat_minor": 2
}
