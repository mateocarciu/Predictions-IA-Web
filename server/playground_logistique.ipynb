{
 "cells": [
  {
   "cell_type": "code",
   "execution_count": 2,
   "metadata": {},
   "outputs": [
    {
     "name": "stdout",
     "output_type": "stream",
     "text": [
      "Collecting ace\n",
      "  Obtaining dependency information for ace from https://files.pythonhosted.org/packages/3a/dc/cba6c428710a97ce908e0aa4aa3b5f6cbb7c55dcfc999fb302726a8e3f1c/ace-0.3.3-py3-none-any.whl.metadata\n",
      "  Downloading ace-0.3.3-py3-none-any.whl.metadata (7.8 kB)\n",
      "Requirement already satisfied: numpy in c:\\users\\julie\\anaconda3\\envs\\ml\\lib\\site-packages (from ace) (1.26.4)\n",
      "Requirement already satisfied: scipy>=0.17 in c:\\users\\julie\\anaconda3\\envs\\ml\\lib\\site-packages (from ace) (1.11.3)\n",
      "Downloading ace-0.3.3-py3-none-any.whl (23 kB)\n",
      "Installing collected packages: ace\n",
      "Successfully installed ace-0.3.3\n"
     ]
    }
   ],
   "source": [
    "!pip install ace"
   ]
  },
  {
   "cell_type": "code",
   "execution_count": 7,
   "metadata": {},
   "outputs": [
    {
     "name": "stdout",
     "output_type": "stream",
     "text": [
      "Accuracy: 0.95\n",
      "Classification Report:\n",
      "              precision    recall  f1-score   support\n",
      "\n",
      "        high       1.00      0.86      0.92         7\n",
      "         low       0.67      1.00      0.80         2\n",
      "      normal       1.00      1.00      1.00         7\n",
      "        scam       1.00      1.00      1.00         4\n",
      "\n",
      "    accuracy                           0.95        20\n",
      "   macro avg       0.92      0.96      0.93        20\n",
      "weighted avg       0.97      0.95      0.95        20\n",
      "\n"
     ]
    },
    {
     "name": "stderr",
     "output_type": "stream",
     "text": [
      "c:\\Users\\julie\\anaconda3\\envs\\ml\\Lib\\site-packages\\sklearn\\linear_model\\_logistic.py:460: ConvergenceWarning: lbfgs failed to converge (status=1):\n",
      "STOP: TOTAL NO. of ITERATIONS REACHED LIMIT.\n",
      "\n",
      "Increase the number of iterations (max_iter) or scale the data as shown in:\n",
      "    https://scikit-learn.org/stable/modules/preprocessing.html\n",
      "Please also refer to the documentation for alternative solver options:\n",
      "    https://scikit-learn.org/stable/modules/linear_model.html#logistic-regression\n",
      "  n_iter_i = _check_optimize_result(\n"
     ]
    }
   ],
   "source": [
    "import pandas as pd\n",
    "from sklearn.model_selection import train_test_split\n",
    "from sklearn.linear_model import LogisticRegression\n",
    "from sklearn.metrics import classification_report, accuracy_score\n",
    "\n",
    "# Load dataset\n",
    "# Assuming the CSV is available at this path\n",
    "file_path = 'appartements.csv'\n",
    "df = pd.read_csv(file_path)\n",
    "\n",
    "\n",
    "# Discretize the price into 4 categories: low, normal, high, and scam\n",
    "# Define bins based on real estate price ranges (These are adjustable to real-world price ranges)\n",
    "bins = [0, 150000, 250000, 400000, float('inf')]  # Example thresholds\n",
    "labels = ['low', 'normal', 'high', 'scam']  # Classes\n",
    "df['price_category'] = pd.cut(df['price'], bins=bins, labels=labels)\n",
    "\n",
    "# Define features and target\n",
    "X = df[['nbRooms', 'surface', 'nbWindows']]  # Features\n",
    "y = df['price_category']  # Target variable\n",
    "\n",
    "# Split the data into training and testing sets\n",
    "X_train, X_test, y_train, y_test = train_test_split(\n",
    "    X, y, test_size=0.2, random_state=42)\n",
    "\n",
    "# Initialize logistic regression model\n",
    "log_reg = LogisticRegression(max_iter=200)\n",
    "\n",
    "# Train the model\n",
    "log_reg.fit(X_train, y_train)\n",
    "\n",
    "# Make predictions\n",
    "y_pred = log_reg.predict(X_test)\n",
    "\n",
    "# Calculate accuracy and display the classification report\n",
    "accuracy = accuracy_score(y_test, y_pred)\n",
    "report = classification_report(y_test, y_pred)\n",
    "\n",
    "print(f'Accuracy: {accuracy}')\n",
    "print('Classification Report:')\n",
    "print(report)"
   ]
  },
  {
   "cell_type": "markdown",
   "metadata": {},
   "source": [
    "Précision globale (Accuracy: 0.95) : Cela signifie que le modèle classifie correctement 95 % des appartements dans les bonnes catégories (bas, normal, élevé, arnaque) selon les caractéristiques fournies.\n",
    "\n",
    "Précision (Precision) : C'est la proportion de prédictions correctes par rapport au nombre total de prédictions faites pour chaque classe.\n",
    "\n",
    "Précision pour \"high\" (1.00) : Toutes les prédictions d'appartements dans la catégorie \"élevé\" sont correctes.\n",
    "Précision pour \"low\" (0.67) : Seulement 67 % des appartements prévus comme étant \"peu chers\" étaient effectivement dans cette catégorie.\n",
    "Précision pour \"normal\" (1.00) et \"arnaque\" (1.00) : Pour ces deux classes, toutes les prédictions sont correctes.\n",
    "Rappel (Recall) : C'est la proportion d'exemples pertinents détectés correctement pour chaque classe.\n",
    "\n",
    "Rappel pour \"high\" (0.86) : Le modèle a correctement détecté 86 % des appartements vraiment dans la catégorie \"élevé\".\n",
    "Rappel pour \"low\" (1.00) : Tous les appartements de la catégorie \"peu chers\" ont été correctement identifiés.\n",
    "Rappel pour \"normal\" (1.00) et \"arnaque\" (1.00) : Ces deux classes ont un rappel parfait.\n",
    "F1-Score : C'est une mesure qui combine la précision et le rappel.\n",
    "\n",
    "F1-Score pour \"high\" (0.92) : La balance entre précision et rappel est très bonne pour cette catégorie.\n",
    "F1-Score pour \"low\" (0.80) : Le modèle a une performance correcte pour les \"peu chers\", mais il y a une marge d'amélioration.\n",
    "F1-Score pour \"normal\" (1.00) et \"arnaque\" (1.00) : Les performances sont parfaites pour ces classes.\n",
    "Support : C'est le nombre d'exemples dans chaque classe.\n",
    "\n",
    "High (7) : Il y avait 7 exemples réels d'appartements \"élevés\".\n",
    "Low (2) : Seulement 2 appartements étaient réellement \"peu chers\", ce qui peut expliquer pourquoi les résultats pour cette classe sont moins bons (dû au faible échantillon).\n",
    "Normal (7) et Arnaque (4) : Le modèle a traité un nombre modéré d'exemples dans ces catégories."
   ]
  },
  {
   "cell_type": "code",
   "execution_count": 8,
   "metadata": {},
   "outputs": [
    {
     "data": {
      "image/png": "[encoded data removed]",
      "text/plain": [
       "<Figure size 800x600 with 2 Axes>"
      ]
     },
     "metadata": {},
     "output_type": "display_data"
    }
   ],
   "source": [
    "import matplotlib.pyplot as plt\n",
    "from sklearn.metrics import confusion_matrix\n",
    "import seaborn as sns\n",
    "\n",
    "# Generate the confusion matrix\n",
    "cm = confusion_matrix(y_test, y_pred, labels=['low', 'normal', 'high', 'scam'])\n",
    "\n",
    "# Plot the confusion matrix\n",
    "plt.figure(figsize=(8, 6))\n",
    "sns.heatmap(cm, annot=True, fmt=\"d\", cmap=\"Blues\", xticklabels=[\n",
    "            'low', 'normal', 'high', 'scam'], yticklabels=['low', 'normal', 'high', 'scam'])\n",
    "plt.title('Confusion Matrix')\n",
    "plt.ylabel('Actual Class')\n",
    "plt.xlabel('Predicted Class')\n",
    "plt.show()"
   ]
  }
 ],
 "metadata": {
  "kernelspec": {
   "display_name": "ml",
   "language": "python",
   "name": "python3"
  },
  "language_info": {
   "codemirror_mode": {
    "name": "ipython",
    "version": 3
   },
   "file_extension": ".py",
   "mimetype": "text/x-python",
   "name": "python",
   "nbconvert_exporter": "python",
   "pygments_lexer": "ipython3",
   "version": "3.12.0"
  }
 },
 "nbformat": 4,
 "nbformat_minor": 2
}
