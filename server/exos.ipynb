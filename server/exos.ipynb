{
 "cells": [
  {
   "cell_type": "markdown",
   "metadata": {},
   "source": [
    "1. Préparation du Dataset"
   ]
  },
  {
   "cell_type": "code",
   "execution_count": 53,
   "metadata": {},
   "outputs": [
    {
     "data": {
      "text/html": [
       "<div>\n",
       "<style scoped>\n",
       "    .dataframe tbody tr th:only-of-type {\n",
       "        vertical-align: middle;\n",
       "    }\n",
       "\n",
       "    .dataframe tbody tr th {\n",
       "        vertical-align: top;\n",
       "    }\n",
       "\n",
       "    .dataframe thead th {\n",
       "        text-align: right;\n",
       "    }\n",
       "</style>\n",
       "<table border=\"1\" class=\"dataframe\">\n",
       "  <thead>\n",
       "    <tr style=\"text-align: right;\">\n",
       "      <th></th>\n",
       "      <th>nbRooms</th>\n",
       "      <th>surface</th>\n",
       "      <th>nbWindows</th>\n",
       "      <th>price</th>\n",
       "      <th>id</th>\n",
       "      <th>year</th>\n",
       "      <th>balcony</th>\n",
       "      <th>garage</th>\n",
       "      <th>note</th>\n",
       "      <th>price_category</th>\n",
       "      <th>city</th>\n",
       "    </tr>\n",
       "  </thead>\n",
       "  <tbody>\n",
       "    <tr>\n",
       "      <th>0</th>\n",
       "      <td>4</td>\n",
       "      <td>57</td>\n",
       "      <td>8</td>\n",
       "      <td>202956</td>\n",
       "      <td>6</td>\n",
       "      <td>2011</td>\n",
       "      <td>True</td>\n",
       "      <td>False</td>\n",
       "      <td>2</td>\n",
       "      <td>normal</td>\n",
       "      <td>Paris</td>\n",
       "    </tr>\n",
       "    <tr>\n",
       "      <th>1</th>\n",
       "      <td>5</td>\n",
       "      <td>46</td>\n",
       "      <td>6</td>\n",
       "      <td>148352</td>\n",
       "      <td>7</td>\n",
       "      <td>2024</td>\n",
       "      <td>False</td>\n",
       "      <td>False</td>\n",
       "      <td>1</td>\n",
       "      <td>low</td>\n",
       "      <td>Lyon</td>\n",
       "    </tr>\n",
       "    <tr>\n",
       "      <th>2</th>\n",
       "      <td>3</td>\n",
       "      <td>102</td>\n",
       "      <td>8</td>\n",
       "      <td>337699</td>\n",
       "      <td>8</td>\n",
       "      <td>2019</td>\n",
       "      <td>False</td>\n",
       "      <td>True</td>\n",
       "      <td>4</td>\n",
       "      <td>normal</td>\n",
       "      <td>Marseille</td>\n",
       "    </tr>\n",
       "    <tr>\n",
       "      <th>3</th>\n",
       "      <td>5</td>\n",
       "      <td>101</td>\n",
       "      <td>9</td>\n",
       "      <td>347944</td>\n",
       "      <td>9</td>\n",
       "      <td>2015</td>\n",
       "      <td>False</td>\n",
       "      <td>False</td>\n",
       "      <td>4</td>\n",
       "      <td>normal</td>\n",
       "      <td>Paris</td>\n",
       "    </tr>\n",
       "    <tr>\n",
       "      <th>4</th>\n",
       "      <td>5</td>\n",
       "      <td>41</td>\n",
       "      <td>4</td>\n",
       "      <td>155493</td>\n",
       "      <td>10</td>\n",
       "      <td>2012</td>\n",
       "      <td>True</td>\n",
       "      <td>True</td>\n",
       "      <td>1</td>\n",
       "      <td>low</td>\n",
       "      <td>Lyon</td>\n",
       "    </tr>\n",
       "  </tbody>\n",
       "</table>\n",
       "</div>"
      ],
      "text/plain": [
       "   nbRooms  surface  nbWindows   price  id  year  balcony  garage  note  \\\n",
       "0        4       57          8  202956   6  2011     True   False     2   \n",
       "1        5       46          6  148352   7  2024    False   False     1   \n",
       "2        3      102          8  337699   8  2019    False    True     4   \n",
       "3        5      101          9  347944   9  2015    False   False     4   \n",
       "4        5       41          4  155493  10  2012     True    True     1   \n",
       "\n",
       "  price_category       city  \n",
       "0         normal      Paris  \n",
       "1            low       Lyon  \n",
       "2         normal  Marseille  \n",
       "3         normal      Paris  \n",
       "4            low       Lyon  "
      ]
     },
     "execution_count": 53,
     "metadata": {},
     "output_type": "execute_result"
    }
   ],
   "source": [
    "import pandas as pd\n",
    "import numpy as np\n",
    "\n",
    "# j'ai commenté car j'ai déja les colonnes dans le fichier csv\n",
    "# df = pd.DataFrame({\n",
    "#     'surface': np.random.randint(30, 200, 50),  # surface en m²\n",
    "#     'nbRooms': np.random.randint(1, 6, 50),     # nombre de chambres\n",
    "#     'price': np.random.randint(100000, 1000000, 50)  # prix de l'appartement\n",
    "# })\n",
    "\n",
    "# # Ajout des nouvelles colonnes\n",
    "# df['annee'] = np.random.randint(2005, 2025, df.shape[0])  # années entre 2005 et 2024\n",
    "# df['balcon'] = np.random.choice([True, False], df.shape[0])  # booléen pour balcon\n",
    "# df['garage'] = np.random.choice([True, False], df.shape[0])  # booléen pour garage\n",
    "# df['note'] = np.random.randint(1, 6, df.shape[0])  # note de 1 à 5\n",
    "\n",
    "df = pd.read_csv('appartements.csv')\n",
    "\n",
    "# Catégorisation du prix\n",
    "def categorize_price(price):\n",
    "    if price < 200000:\n",
    "        return 'low'\n",
    "    elif 200000 <= price < 500000:\n",
    "        return 'normal'\n",
    "    elif 500000 <= price < 800000:\n",
    "        return 'high'\n",
    "    else:\n",
    "        return 'scam'\n",
    "\n",
    "df['price_category'] = df['price'].apply(categorize_price)\n",
    "\n",
    "df.head()\n"
   ]
  },
  {
   "cell_type": "markdown",
   "metadata": {},
   "source": []
  },
  {
   "cell_type": "markdown",
   "metadata": {},
   "source": [
    "3. Analyse des données avec Numpy et Pandas"
   ]
  },
  {
   "cell_type": "code",
   "execution_count": 26,
   "metadata": {},
   "outputs": [
    {
     "name": "stdout",
     "output_type": "stream",
     "text": [
      "Surface - Moyenne: 89.25, Ecart-type: 35.78425109266123, Min: 26, Max: 148\n",
      "Année de construction - Moyenne: 2014.45, Ancien: 2005, Récent: 2024\n",
      "Proportion d'appartements avec balcon: 0.45\n",
      "Nombre d'appartements par catégorie de prix:\n",
      "price_category\n",
      "normal    77\n",
      "low       23\n",
      "Name: count, dtype: int64\n",
      "Nombre de chambres - Moyenne: 3.46, Médiane: 4.0, Variance: 1.3216161616161628, Ecart-type: 1.1496156582163288\n"
     ]
    }
   ],
   "source": [
    "# Moyenne, écart-type, surface minimale et maximale\n",
    "surface_mean = df['surface'].mean()\n",
    "surface_std = df['surface'].std()\n",
    "surface_min = df['surface'].min()\n",
    "surface_max = df['surface'].max()\n",
    "\n",
    "# Année de construction: Moyenne, la plus ancienne, la plus récente\n",
    "annee_mean = df['year'].mean()\n",
    "annee_min = df['year'].min()\n",
    "annee_max = df['year'].max()\n",
    "\n",
    "# Proportion d'appartements avec balcon\n",
    "balcon_proportion = df['balcony'].mean()\n",
    "\n",
    "# Comptage du nombre d'appartements dans chaque catégorie de prix\n",
    "price_category_counts = df['price_category'].value_counts()\n",
    "\n",
    "# Nombre de chambres: Moyenne, médiane, variance, écart-type\n",
    "nbRooms_mean = df['nbRooms'].mean()\n",
    "nbRooms_median = df['nbRooms'].median()\n",
    "nbRooms_variance = df['nbRooms'].var()\n",
    "nbRooms_std = df['nbRooms'].std()\n",
    "\n",
    "# Affichage des résultats\n",
    "print(f\"Surface - Moyenne: {surface_mean}, Ecart-type: {surface_std}, Min: {surface_min}, Max: {surface_max}\")\n",
    "print(f\"Année de construction - Moyenne: {annee_mean}, Ancien: {annee_min}, Récent: {annee_max}\")\n",
    "print(f\"Proportion d'appartements avec balcon: {balcon_proportion}\")\n",
    "print(f\"Nombre d'appartements par catégorie de prix:\\n{price_category_counts}\")\n",
    "print(f\"Nombre de chambres - Moyenne: {nbRooms_mean}, Médiane: {nbRooms_median}, Variance: {nbRooms_variance}, Ecart-type: {nbRooms_std}\")\n"
   ]
  },
  {
   "cell_type": "markdown",
   "metadata": {},
   "source": [
    "4. Visualisation avec Matplotlib"
   ]
  },
  {
   "cell_type": "code",
   "execution_count": 37,
   "metadata": {},
   "outputs": [
    {
     "data": {
      "image/png": "[encoded data removed]",
      "text/plain": [
       "<Figure size 640x480 with 1 Axes>"
      ]
     },
     "metadata": {},
     "output_type": "display_data"
    },
    {
     "data": {
      "image/png": "[encoded data removed]",
      "text/plain": [
       "<Figure size 640x480 with 2 Axes>"
      ]
     },
     "metadata": {},
     "output_type": "display_data"
    }
   ],
   "source": [
    "import matplotlib.pyplot as plt\n",
    "import numpy as np\n",
    "\n",
    "# Diagramme à barres pour la répartition des catégories de prix\n",
    "price_category_counts = df['price_category'].value_counts()\n",
    "plt.bar(price_category_counts.index, price_category_counts.values)\n",
    "plt.title(\"Répartition des catégories de prix\")\n",
    "plt.xlabel(\"Catégorie de prix\")\n",
    "plt.ylabel(\"Nombre d'appartements\")\n",
    "plt.xticks(rotation=45)\n",
    "plt.show()\n",
    "\n",
    "# Bonus: Heatmap pour la corrélation entre l'année de construction et le prix\n",
    "correlation_matrix = df[['year', 'price']].corr()\n",
    "\n",
    "plt.imshow(correlation_matrix, cmap='coolwarm', interpolation='none', aspect='auto')\n",
    "plt.colorbar()\n",
    "plt.xticks(range(len(correlation_matrix.columns)), correlation_matrix.columns, rotation=45)\n",
    "plt.yticks(range(len(correlation_matrix.index)), correlation_matrix.index)\n",
    "plt.title(\"Corrélation entre l'année de construction et le prix\")\n",
    "plt.show()\n",
    "\n"
   ]
  },
  {
   "cell_type": "markdown",
   "metadata": {},
   "source": [
    "1. Compléter avec une nouvelle colonne ville"
   ]
  },
  {
   "cell_type": "code",
   "execution_count": null,
   "metadata": {},
   "outputs": [],
   "source": [
    "# Ajouter une nouvelle colonne 'city'\n",
    "# cities = ['Lyon', 'Paris', 'Marseille']\n",
    "# df['city'] = np.random.choice(cities, size=len(df))\n",
    "\n",
    "\n",
    "# j'ai commenté car j'ai déja la colonne city dans le fichier csv"
   ]
  },
  {
   "cell_type": "markdown",
   "metadata": {},
   "source": [
    "2. PRÉDICITON LINÉAIRE SUR LA NOTE"
   ]
  },
  {
   "cell_type": "code",
   "execution_count": 51,
   "metadata": {},
   "outputs": [
    {
     "name": "stdout",
     "output_type": "stream",
     "text": [
      "Prédictions : [2.60881281 2.91075643 2.97874434 2.81949179 3.39382127 3.14378906\n",
      " 1.85152731 3.33051066 3.12726831 2.85428759 3.0192828  3.32782767\n",
      " 3.21725322 3.25045787 3.37550507 2.74892031 3.26183355 3.46672668\n",
      " 2.89596843 2.80949263]\n",
      "R² : -0.01775611380802289\n",
      "RMSE : 1.357254053592223\n"
     ]
    }
   ],
   "source": [
    "from sklearn.model_selection import train_test_split\n",
    "from sklearn.linear_model import LinearRegression\n",
    "from sklearn.preprocessing import OneHotEncoder\n",
    "import numpy as np\n",
    "from sklearn.metrics import mean_squared_error, r2_score\n",
    "\n",
    "# Préparer les données\n",
    "X = df[['surface', 'price', 'city']]\n",
    "y = df['note']\n",
    "\n",
    "# One-Hot Encoding pour la ville\n",
    "encoder = OneHotEncoder(sparse_output=False)\n",
    "X_encoded = encoder.fit_transform(X[['city']])\n",
    "X_encoded = np.concatenate((X[['surface', 'price']].values, X_encoded), axis=1)\n",
    "\n",
    "# Séparation des données\n",
    "X_train, X_test, y_train, y_test = train_test_split(X_encoded, y, test_size=0.2, random_state=42)\n",
    "\n",
    "# Régression linéaire\n",
    "model = LinearRegression()\n",
    "model.fit(X_train, y_train)\n",
    "\n",
    "# Prédictions\n",
    "y_pred = model.predict(X_test)\n",
    "\n",
    "# Calculer R² et RMSE\n",
    "r2 = r2_score(y_test, y_pred)\n",
    "rmse = np.sqrt(mean_squared_error(y_test, y_pred))\n",
    "\n",
    "# Affichage des résultats\n",
    "print(f\"Prédictions : {y_pred}\")\n",
    "print(f\"R² : {r2}\")\n",
    "print(f\"RMSE : {rmse}\")\n"
   ]
  },
  {
   "cell_type": "markdown",
   "metadata": {},
   "source": [
    "3. PRÉDICTION LINÉAIRE SUR L'ANNÉE"
   ]
  },
  {
   "cell_type": "code",
   "execution_count": 45,
   "metadata": {},
   "outputs": [
    {
     "name": "stdout",
     "output_type": "stream",
     "text": [
      "R²: -0.23518701193223102, RMSE: 5.481697915133718\n"
     ]
    }
   ],
   "source": [
    "# Préparer les données\n",
    "X_year = df[['city', 'price']]\n",
    "y_year = df['year']\n",
    "\n",
    "# One-Hot Encoding pour la ville\n",
    "X_year_encoded = encoder.fit_transform(X_year[['city']])\n",
    "X_year_encoded = np.concatenate((X_year[['price']].values, X_year_encoded), axis=1)\n",
    "\n",
    "# Séparation des données\n",
    "X_train_year, X_test_year, y_train_year, y_test_year = train_test_split(X_year_encoded, y_year, test_size=0.2, random_state=42)\n",
    "\n",
    "# Régression linéaire\n",
    "model_year = LinearRegression()\n",
    "model_year.fit(X_train_year, y_train_year)\n",
    "\n",
    "# Prédictions et évaluation\n",
    "y_pred_year = model_year.predict(X_test_year)\n",
    "\n",
    "# Calculer R² et RMSE\n",
    "from sklearn.metrics import mean_squared_error, r2_score\n",
    "\n",
    "r2 = r2_score(y_test_year, y_pred_year)\n",
    "rmse = np.sqrt(mean_squared_error(y_test_year, y_pred_year))\n",
    "\n",
    "print(f\"R²: {r2}, RMSE: {rmse}\")\n"
   ]
  },
  {
   "cell_type": "markdown",
   "metadata": {},
   "source": [
    "4. CLASSIFICATION LOGISTIQUE POUR LE GARAGE"
   ]
  },
  {
   "cell_type": "code",
   "execution_count": 47,
   "metadata": {},
   "outputs": [
    {
     "name": "stdout",
     "output_type": "stream",
     "text": [
      "Prédictions (garage) : [ True  True  True  True  True  True  True  True  True  True  True  True\n",
      "  True  True  True  True  True  True  True  True]\n",
      "Accuracy : 0.55\n",
      "Recall : 1.0\n",
      "F1 Score : 0.7096774193548387\n"
     ]
    }
   ],
   "source": [
    "from sklearn.model_selection import train_test_split\n",
    "from sklearn.linear_model import LogisticRegression\n",
    "from sklearn.preprocessing import OneHotEncoder\n",
    "from sklearn.metrics import accuracy_score, recall_score, f1_score\n",
    "import numpy as np\n",
    "\n",
    "# Préparer les données\n",
    "X_garage = df[['price', 'city']]\n",
    "y_garage = df['garage']\n",
    "\n",
    "# One-Hot Encoding pour la ville\n",
    "encoder = OneHotEncoder(sparse_output=False)\n",
    "X_garage_encoded = encoder.fit_transform(X_garage[['city']])\n",
    "X_garage_encoded = np.concatenate((X_garage[['price']].values, X_garage_encoded), axis=1)\n",
    "\n",
    "# Séparation des données\n",
    "X_train_garage, X_test_garage, y_train_garage, y_test_garage = train_test_split(X_garage_encoded, y_garage, test_size=0.2, random_state=42)\n",
    "\n",
    "# Régression logistique\n",
    "log_reg = LogisticRegression()\n",
    "log_reg.fit(X_train_garage, y_train_garage)\n",
    "\n",
    "# Prédictions et évaluation\n",
    "y_pred_garage = log_reg.predict(X_test_garage)\n",
    "\n",
    "# Calculer les métriques\n",
    "accuracy_log = accuracy_score(y_test_garage, y_pred_garage)\n",
    "recall_log = recall_score(y_test_garage, y_pred_garage)\n",
    "f1_log = f1_score(y_test_garage, y_pred_garage)\n",
    "\n",
    "# Affichage des résultats\n",
    "print(f\"Prédictions (garage) : {y_pred_garage}\")\n",
    "print(f\"Accuracy : {accuracy_log}\")\n",
    "print(f\"Recall : {recall_log}\")\n",
    "print(f\"F1 Score : {f1_log}\")\n"
   ]
  },
  {
   "cell_type": "markdown",
   "metadata": {},
   "source": [
    "5. CLASSIFICATION KNN POUR LE BALCON"
   ]
  },
  {
   "cell_type": "code",
   "execution_count": 49,
   "metadata": {},
   "outputs": [
    {
     "name": "stdout",
     "output_type": "stream",
     "text": [
      "Prédictions (balcon) : [False  True False  True False False  True  True False  True  True  True\n",
      "  True False False False False False  True  True]\n",
      "Accuracy : 0.4\n",
      "Recall : 0.3333333333333333\n",
      "F1 Score : 0.25\n"
     ]
    }
   ],
   "source": [
    "from sklearn.model_selection import train_test_split\n",
    "from sklearn.neighbors import KNeighborsClassifier\n",
    "from sklearn.preprocessing import OneHotEncoder\n",
    "from sklearn.metrics import accuracy_score, recall_score, f1_score\n",
    "import numpy as np\n",
    "\n",
    "# Préparer les données\n",
    "X_balcony = df[['price', 'city']]\n",
    "y_balcony = df['balcony']\n",
    "\n",
    "# One-Hot Encoding pour la ville\n",
    "encoder = OneHotEncoder(sparse_output=False)\n",
    "X_balcony_encoded = encoder.fit_transform(X_balcony[['city']])\n",
    "X_balcony_encoded = np.concatenate((X_balcony[['price']].values, X_balcony_encoded), axis=1)\n",
    "\n",
    "# Séparation des données\n",
    "X_train_balcony, X_test_balcony, y_train_balcony, y_test_balcony = train_test_split(X_balcony_encoded, y_balcony, test_size=0.2, random_state=42)\n",
    "\n",
    "# KNN\n",
    "knn = KNeighborsClassifier()\n",
    "knn.fit(X_train_balcony, y_train_balcony)\n",
    "\n",
    "# Prédictions et évaluation\n",
    "y_pred_balcony = knn.predict(X_test_balcony)\n",
    "\n",
    "# Calculer les métriques\n",
    "accuracy_knn = accuracy_score(y_test_balcony, y_pred_balcony)\n",
    "recall_knn = recall_score(y_test_balcony, y_pred_balcony)\n",
    "f1_knn = f1_score(y_test_balcony, y_pred_balcony)\n",
    "\n",
    "# Affichage des résultats\n",
    "print(f\"Prédictions (balcon) : {y_pred_balcony}\")\n",
    "print(f\"Accuracy : {accuracy_knn}\")\n",
    "print(f\"Recall : {recall_knn}\")\n",
    "print(f\"F1 Score : {f1_knn}\")\n"
   ]
  },
  {
   "cell_type": "markdown",
   "metadata": {},
   "source": [
    "6. AFFICHAGE DES ACCURACY"
   ]
  },
  {
   "cell_type": "code",
   "execution_count": 50,
   "metadata": {},
   "outputs": [
    {
     "name": "stdout",
     "output_type": "stream",
     "text": [
      "Logistique - Accuracy: 0.55, Recall: 1.0, F1: 0.7096774193548387\n",
      "KNN - Accuracy: 0.4, Recall: 0.3333333333333333, F1: 0.25\n"
     ]
    }
   ],
   "source": [
    "from sklearn.metrics import accuracy_score, recall_score, f1_score\n",
    "\n",
    "# Logistique\n",
    "accuracy_log = accuracy_score(y_test_garage, y_pred_garage)\n",
    "recall_log = recall_score(y_test_garage, y_pred_garage)\n",
    "f1_log = f1_score(y_test_garage, y_pred_garage)\n",
    "\n",
    "# KNN\n",
    "accuracy_knn = accuracy_score(y_test_balcony, y_pred_balcony)\n",
    "recall_knn = recall_score(y_test_balcony, y_pred_balcony)\n",
    "f1_knn = f1_score(y_test_balcony, y_pred_balcony)\n",
    "\n",
    "print(f\"Logistique - Accuracy: {accuracy_log}, Recall: {recall_log}, F1: {f1_log}\")\n",
    "print(f\"KNN - Accuracy: {accuracy_knn}, Recall: {recall_knn}, F1: {f1_knn}\")\n"
   ]
  }
 ],
 "metadata": {
  "kernelspec": {
   "display_name": "esgi",
   "language": "python",
   "name": "python3"
  },
  "language_info": {
   "codemirror_mode": {
    "name": "ipython",
    "version": 3
   },
   "file_extension": ".py",
   "mimetype": "text/x-python",
   "name": "python",
   "nbconvert_exporter": "python",
   "pygments_lexer": "ipython3",
   "version": "3.12.5"
  }
 },
 "nbformat": 4,
 "nbformat_minor": 2
}
